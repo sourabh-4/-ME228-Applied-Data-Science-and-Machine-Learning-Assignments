{
 "cells": [
  {
   "cell_type": "markdown",
   "metadata": {},
   "source": [
    "### tutorial 5\n"
   ]
  },
  {
   "cell_type": "code",
   "execution_count": 1,
   "metadata": {},
   "outputs": [],
   "source": [
    "import pandas as pd\n",
    "import numpy as np\n",
    "import matplotlib.pyplot as plt"
   ]
  },
  {
   "cell_type": "code",
   "execution_count": 2,
   "metadata": {},
   "outputs": [],
   "source": [
    "def relu(z):\n",
    " return np.maximum(0, z)"
   ]
  },
  {
   "cell_type": "code",
   "execution_count": 3,
   "metadata": {},
   "outputs": [],
   "source": [
    "x=np.linspace(-5,5,50)\n",
    "z=relu(x)\n"
   ]
  },
  {
   "cell_type": "code",
   "execution_count": 4,
   "metadata": {},
   "outputs": [
    {
     "data": {
      "image/png": "[encoded data removed]",
      "text/plain": [
       "<Figure size 640x480 with 1 Axes>"
      ]
     },
     "metadata": {},
     "output_type": "display_data"
    }
   ],
   "source": [
    "plt.plot(x,z)\n",
    "plt.grid()\n",
    "plt.show()\n"
   ]
  },
  {
   "cell_type": "code",
   "execution_count": 6,
   "metadata": {},
   "outputs": [],
   "source": [
    "def initialize_param(layer_sizes):\n",
    " params={}\n",
    " for i in range (1,len(layer_sizes)):\n",
    "    params['W'+str(i)]=np.random.randn(layer_sizes[i],layer_sizes[i-1])\n",
    "    params['b'+str(i)]=np.random.randn((layer_sizes[i],1))*0.01\n",
    " return params"
   ]
  },
  {
   "cell_type": "code",
   "execution_count": 7,
   "metadata": {},
   "outputs": [],
   "source": [
    "def forward_propagation(X_train,params):\n",
    "    layers = len(params)//2\n",
    "    values={}\n",
    "    for i in range(1,layers+1):\n",
    "        if i==1:\n",
    "            values['z'+str(i)]=np.dot(params['w'+str(i)],X_train) +params['b'+str(i)]\n",
    "            values['A'+str(i)]=relu(values['z'+str(i)])\n",
    "        else:\n",
    "            values['z'+str(i)]=np.dot(params['w'+str(i)],values['A'+str(i-1)])+params['b'+str(i)]\n",
    "        if i==layers:\n",
    "            values['A'+str(i)]=values['z'+str(i)]\n",
    "        else:\n",
    "            values['A'+str(i)]=relu(values['z'+str(i)])\n",
    "    return values\n",
    "\n"
   ]
  },
  {
   "cell_type": "markdown",
   "metadata": {},
   "source": [
    "### Cost Function"
   ]
  },
  {
   "cell_type": "markdown",
   "metadata": {},
   "source": [
    "$$ J = \\frac{1}{2m} \\sum (J(true) - J(pred))^2 \n",
    "$$\n"
   ]
  },
  {
   "cell_type": "code",
   "execution_count": 8,
   "metadata": {},
   "outputs": [],
   "source": [
    "def compute_cost(values,Y_train):\n",
    " layers=len(values)//2\n",
    " Y_pred=values['A'+str(layers)]\n",
    " cost=1/(2*len(Y_train))*np.sum(np.square(Y_pred-Y_train))\n",
    " return cost\n"
   ]
  },
  {
   "cell_type": "code",
   "execution_count": 9,
   "metadata": {},
   "outputs": [],
   "source": [
    "def train(inputs, expected_outputs, weights_input_hidden, bias_hidden, weights_hidden_output, bias_output, epochs, learning_rate):\n",
    "    for epoch in range(epochs):\n",
    "        total_error = 0\n",
    "        for i in range(len(inputs)):\n",
    "            input_data = inputs[i]\n",
    "            expected_output = expected_outputs[i]\n",
    "    \n",
    "            # Forward propagation\n",
    "            predicted_output, hidden_output = forward_propagation(input_data, weights_input_hidden, bias_hidden, weights_hidden_output, bias_output)\n",
    "            \n",
    "            # Backward propagation\n",
    "            weights_input_hidden, bias_hidden, weights_hidden_output, bias_output = backward_propagation(input_data, expected_output, predicted_output, hidden_output, weights_input_hidden, bias_hidden, weights_hidden_output, bias_output, learning_rate)\n",
    "            \n",
    "            # Calculate error\n",
    "            total_error += mean_squared_error(expected_output, predicted_output)\n",
    "        \n",
    "        # Print total error for the epoch\n",
    "        print(f'Epoch {epoch}, Total Error: {total_error}')\n",
    "        \n",
    "    return weights_input_hidden, bias_hidden, weights_hidden_output, bias_output\n"
   ]
  },
  {
   "cell_type": "code",
   "execution_count": 10,
   "metadata": {},
   "outputs": [],
   "source": [
    "def train(self, X, y, epochs, learning_rate):\n",
    "    for epoch in range(epochs):\n",
    "        total_error = 0\n",
    "        for i in range(len(X)):\n",
    "            input_data = X[i:i+1]\n",
    "            expected_output = y[i:i+1]\n",
    "            \n",
    "            # Forward propagation\n",
    "            predicted_output, hidden_output = self.forward_propagation(input_data)\n",
    "            \n",
    "            # Backward propagation\n",
    "            self.backward_propagation(input_data, expected_output, predicted_output, hidden_output, learning_rate)\n",
    "            \n",
    "            # Calculate error\n",
    "            total_error += self.mean_squared_error(expected_output, predicted_output)\n",
    "        \n",
    "        # Print error \n",
    "        print(f'Epoch {epoch}, Error: {total_error}')"
   ]
  },
  {
   "cell_type": "code",
   "execution_count": null,
   "metadata": {},
   "outputs": [],
   "source": []
  }
 ],
 "metadata": {
  "kernelspec": {
   "display_name": "Python 3",
   "language": "python",
   "name": "python3"
  },
  "language_info": {
   "codemirror_mode": {
    "name": "ipython",
    "version": 3
   },
   "file_extension": ".py",
   "mimetype": "text/x-python",
   "name": "python",
   "nbconvert_exporter": "python",
   "pygments_lexer": "ipython3",
   "version": "3.11.6"
  }
 },
 "nbformat": 4,
 "nbformat_minor": 2
}
